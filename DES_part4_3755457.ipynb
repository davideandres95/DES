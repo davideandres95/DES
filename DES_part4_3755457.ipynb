{
 "cells": [
  {
   "cell_type": "code",
   "execution_count": 1,
   "metadata": {
    "pycharm": {
     "name": "#%%\n"
    }
   },
   "outputs": [],
   "source": [
    "# Student Name: David de Andres Hernandez\n",
    "# Matriculation Number: 3755457"
   ]
  },
  {
   "cell_type": "markdown",
   "metadata": {},
   "source": [
    "# Discrete Event Simulator (DES) - Part 4"
   ]
  },
  {
   "cell_type": "markdown",
   "metadata": {},
   "source": [
    "# Verification"
   ]
  },
  {
   "cell_type": "code",
   "execution_count": 2,
   "metadata": {
    "pycharm": {
     "name": "#%%\n"
    }
   },
   "outputs": [],
   "source": [
    "import part4_simstudy as p4"
   ]
  },
  {
   "cell_type": "markdown",
   "metadata": {
    "pycharm": {
     "name": "#%% md\n"
    }
   },
   "source": [
    "### 4.2.1: Auto Correlation\n",
    "*Verify the correctness of your auto correlation counter by autocorrelating the following sequences:*\n",
    "- 1, -1, 1, -1, 1, -1, 1, -1,...\n",
    "- 1, 1, -1, 1, 1, -1, 1, 1, -1,...\n",
    "\n",
    "*Hint: Think of a reasonable lag size. Choosing one lag size is not enough for a good verification.*"
   ]
  },
  {
   "cell_type": "code",
   "execution_count": 3,
   "metadata": {
    "pycharm": {
     "name": "#%%\n"
    }
   },
   "outputs": [
    {
     "name": "stdout",
     "output_type": "stream",
     "text": [
      "Name: sequence_1\n",
      "Lag = 0; covariance = 1.0; correlation = 0.9998888888888888\n",
      "Lag = 1; covariance = -1.0; correlation = -0.9998888888888888\n",
      "Lag = 2; covariance = 1.0; correlation = 0.9998888888888888\n",
      "Lag = 3; covariance = -1.0; correlation = -0.9998888888888888\n",
      "Lag = 4; covariance = 1.0; correlation = 0.9998888888888888\n",
      "Lag = 5; covariance = -1.0; correlation = -0.9998888888888888\n",
      "Lag = 6; covariance = 1.0; correlation = 0.9998888888888888\n",
      "Lag = 7; covariance = -1.0; correlation = -0.9998888888888888\n",
      "Lag = 8; covariance = 1.0; correlation = 0.9998888888888888\n",
      "Lag = 9; covariance = -1.0; correlation = -0.9998888888888888\n",
      "Lag = 10; covariance = 1.0; correlation = 0.9998888888888888\n",
      "Name: sequence_2\n",
      "Lag = 0; covariance = 0.8888888888888888; correlation = 0.9998888888888887\n",
      "Lag = 1; covariance = -0.4444444444444444; correlation = -0.4999444444444444\n",
      "Lag = 2; covariance = -0.4444444444444444; correlation = -0.4999444444444444\n",
      "Lag = 3; covariance = 0.8888888888888888; correlation = 0.9998888888888887\n",
      "Lag = 4; covariance = -0.4444444444444444; correlation = -0.4999444444444444\n",
      "Lag = 5; covariance = -0.4444444444444444; correlation = -0.4999444444444444\n",
      "Lag = 6; covariance = 0.8888888888888888; correlation = 0.9998888888888887\n",
      "Lag = 7; covariance = -0.4444444444444444; correlation = -0.4999444444444444\n",
      "Lag = 8; covariance = -0.4444444444444444; correlation = -0.4999444444444444\n",
      "Lag = 9; covariance = 0.8888888888888888; correlation = 0.9998888888888887\n",
      "Lag = 10; covariance = -0.4444444444444444; correlation = -0.4999444444444444\n"
     ]
    }
   ],
   "source": [
    "p4.task_4_2_1()"
   ]
  },
  {
   "cell_type": "markdown",
   "metadata": {
    "pycharm": {
     "name": "#%% md\n"
    }
   },
   "source": [
    "### Task 4.3.1: Correlations in the DES\n",
    "*Calculate the above correlations and auto correlations for a given system utilization of $ρ = 0.01,0.5,0.8,0.95$. The queue size should be infinite (you can set it to 10000) and the simulation time should be 10000 seconds.*"
   ]
  },
  {
   "cell_type": "code",
   "execution_count": null,
   "metadata": {
    "pycharm": {
     "is_executing": true,
     "name": "#%%\n"
    }
   },
   "outputs": [
    {
     "name": "stdout",
     "output_type": "stream",
     "text": [
      "####### RHO = 0.01 #######\n",
      "\n",
      "Name: Waiting Time, Mean: 0.09115581407151706, Variance: 2.5047429362193427\n",
      "Name: waiting time with lags 1 to 20\n",
      "Lag = 0; covariance = 2.504492085649867; correlation = 0.9998998497746622\n",
      "Lag = 1; covariance = 0.05399817867805212; correlation = 0.02155837147885401\n",
      "Lag = 2; covariance = -0.008309382439040986; correlation = -0.0033174591767022458\n",
      "Lag = 3; covariance = 0.00983396152652116; correlation = 0.003926136045467618\n",
      "Lag = 4; covariance = -0.008309382439040986; correlation = -0.0033174591767022458\n",
      "Lag = 5; covariance = 0.007052066637283867; correlation = 0.002815485188243809\n",
      "Lag = 6; covariance = -0.008309382439040986; correlation = -0.0033174591767022458\n",
      "Lag = 7; covariance = -0.008309382439040986; correlation = -0.0033174591767022458\n",
      "Lag = 8; covariance = 0.001335562226825392; correlation = 0.0005332132920759081\n",
      "Lag = 9; covariance = -0.008309382439040986; correlation = -0.0033174591767022458\n",
      "Lag = 10; covariance = -0.006998401240523328; correlation = -0.0027940596774720166\n",
      "Lag = 11; covariance = 0.0027780699935480626; correlation = 0.0011091237960496176\n",
      "Lag = 12; covariance = -0.008309382439040986; correlation = -0.0033174591767022458\n",
      "Lag = 13; covariance = 0.08227943510333005; correlation = 0.03284945289735903\n",
      "Lag = 14; covariance = -0.008309382439040986; correlation = -0.0033174591767022458\n",
      "Lag = 15; covariance = -8.97531029952249e-05; correlation = -3.5833259252823034e-05\n",
      "Lag = 16; covariance = -0.008309382439040986; correlation = -0.0033174591767022458\n",
      "Lag = 17; covariance = -0.007978257077953061; correlation = -0.0031852598374807425\n",
      "Lag = 18; covariance = -0.007306812719449716; correlation = -0.002917190668068562\n",
      "Lag = 19; covariance = -0.008309382439040986; correlation = -0.0033174591767022458\n",
      "Lag = 20; covariance = -0.0057769921307000704; correlation = -0.0023064211688804516\n",
      "Name: Queue Length, Mean: 9.101908035040979e-05, Variance: 9.428240282769754e-05\n",
      "Name: sys_util=0.01, Mean: 0.010114024275782228, Variance: 0.010011730788731115\n",
      "Name: inter-arrival time vs. waiting time; covariance = -90.5025398102398; correlation = -0.05651444903031746\n",
      "Name: inter-arrival time vs. service time; covariance = -28.618163899665888; correlation = -0.002776809387902108\n",
      "Name: inter-arrival time vs. system time; covariance = -119.12070370990659; correlation = -0.011409892841471068\n",
      "Name: service time vs. system time; covariance = 103.83614431186724; correlation = 0.9880673508026274\n",
      "####### RHO = 0.5 #######\n",
      "\n",
      "Name: Waiting Time, Mean: 522.5427116578724, Variance: 802731.6053030159\n",
      "Name: waiting time with lags 1 to 20\n",
      "Lag = 0; covariance = 802651.2437447713; correlation = 0.9998998898788665\n",
      "Lag = 1; covariance = 628381.1361838072; correlation = 0.7828035323794249\n",
      "Lag = 2; covariance = 502728.55711561115; correlation = 0.6262722855241768\n",
      "Lag = 3; covariance = 407322.9213831986; correlation = 0.5074210591589227\n",
      "Lag = 4; covariance = 329827.99924670835; correlation = 0.4108820396104929\n",
      "Lag = 5; covariance = 267978.8028875027; correlation = 0.33383362647886\n",
      "Lag = 6; covariance = 218672.02522693085; correlation = 0.27240988617158823\n",
      "Lag = 7; covariance = 179619.3837516114; correlation = 0.22376019900675084\n",
      "Lag = 8; covariance = 142372.78974369937; correlation = 0.17736038895585324\n",
      "Lag = 9; covariance = 109743.28526037285; correlation = 0.1367123015157063\n",
      "Lag = 10; covariance = 85267.12694121676; correlation = 0.10622121563163076\n",
      "Lag = 11; covariance = 68965.1573306694; correlation = 0.08591309582813345\n",
      "Lag = 12; covariance = 48670.93876362743; correlation = 0.0606316462963422\n",
      "Lag = 13; covariance = 38748.49276732834; correlation = 0.04827079500962407\n",
      "Lag = 14; covariance = 32968.8620706161; correlation = 0.041070840929666626\n",
      "Lag = 15; covariance = 35050.422693001456; correlation = 0.04366393756200815\n",
      "Lag = 16; covariance = 30502.327476274746; correlation = 0.03799816436125086\n",
      "Lag = 17; covariance = 25060.009314341587; correlation = 0.031218416154029354\n",
      "Lag = 18; covariance = 21943.93663582788; correlation = 0.027336579861639385\n",
      "Lag = 19; covariance = 20710.741136668774; correlation = 0.02580033101954527\n",
      "Lag = 20; covariance = 22022.5969441724; correlation = 0.02743457065685023\n",
      "Name: Queue Length, Mean: 0.5219679146750488, Variance: 1.308875138532211\n",
      "Name: sys_util=0.5, Mean: 0.4996966129032826, Variance: 0.24999990795626956\n",
      "Name: inter-arrival time vs. waiting time; covariance = -258423.21285824943; correlation = -0.2900597293862101\n",
      "Name: inter-arrival time vs. service time; covariance = 4577.064871362585; correlation = 0.009064343231959341\n",
      "Name: inter-arrival time vs. system time; covariance = -253846.1479868869; correlation = -0.24770651761151624\n",
      "Name: service time vs. system time; covariance = 258567.512749977; correlation = 0.49409208211293404\n",
      "####### RHO = 0.8 #######\n",
      "\n"
     ]
    }
   ],
   "source": [
    "p4.task_4_3_1()"
   ]
  },
  {
   "cell_type": "markdown",
   "metadata": {
    "pycharm": {
     "name": "#%% md\n"
    }
   },
   "source": [
    "\n",
    "### Task 4.3.2: The Visualization of Covariance/Correlation\n",
    "*Reuse the scenario parameters (ρ, queue size and simulation time) of the previous task. Now instead of printing covariance/correlation values, we want to have a more direct visualization of the relationship between the following values.*\n",
    "- *IAT and serving time of a packet*\n",
    "- *serving time and system time of a packet*\n",
    "\n",
    "*Please draw scatter plots with different ρs. In order to retrieve the values, you might have to get access to the inner variables of CounterCollection. You should have eight plots in total.*"
   ]
  },
  {
   "cell_type": "code",
   "execution_count": null,
   "metadata": {
    "pycharm": {
     "is_executing": true,
     "name": "#%%\n"
    }
   },
   "outputs": [],
   "source": [
    "p4.task_4_3_2()"
   ]
  },
  {
   "cell_type": "markdown",
   "metadata": {
    "pycharm": {
     "name": "#%% md\n"
    }
   },
   "source": [
    "### Task 4.3.3: Auto-correlation of Waiting Times\n",
    "\n",
    "*Prepare two plots for the auto-correlation for lags ranging from 1 to 20 and a given system utilization of ρ = 0.01,0.5,0.8,0.95. One plot is for N = 100 and the other one is for N = 10000, where N is the number of served packets. In other words, the packets that are dropped will not be considered. The queue size should be unlimited. Hint: For this, you have to implement the function do_simulation_n_limit() in class Simulation, such that the simulation stops after a total packet count of N. However, you can take most of the code from your regular simulation routine.*"
   ]
  },
  {
   "cell_type": "code",
   "execution_count": null,
   "metadata": {
    "pycharm": {
     "is_executing": true,
     "name": "#%%\n"
    }
   },
   "outputs": [],
   "source": [
    "p4.task_4_3_3()"
   ]
  },
  {
   "cell_type": "markdown",
   "metadata": {
    "pycharm": {
     "name": "#%% md\n"
    }
   },
   "source": [
    "#  Analysis and General Questions"
   ]
  },
  {
   "cell_type": "markdown",
   "metadata": {},
   "source": [
    "### Task 4.4.1: Lag Size\n",
    "*What are reasonable lag sizes for the test sequences in task 4.2.1? What does the correlation coefficient say? Consider especially the extreme values!*"
   ]
  },
  {
   "cell_type": "markdown",
   "metadata": {},
   "source": [
    "We can observe that while sequence #1 has a period of 2, sequence #2 has a period of 3. This means that lag sizes which are multiples of the period, will result in a correlation of 1. In the output of task 4.2.1 we see this effect. Note that the value of such multiples is not precisely 1 because of the used variance estimator. In effect, the variance estimator with N-1 makes the denominator in the normalization of the correlation slightly big.\n",
    "The correlation coefficient indicates the similarity of a sequence with an index-shifted version of itself. It is therefore useful to identify patterns. Because the autocorrelation is a normalized value, it ranges from [-1, 1]. The extreme values indicate:\n",
    "- 1: Perfect positive correlation. Both the original sequence and the lag-shifted grow at the same time and with the same magnitude.\n",
    "- 0: Uncorrelation. The original sequence and the lag-shifted are uncorrelated. The original sequence does not present any patterns.\n",
    "- -1: Perfect negative correlation. The original sequence and the lag-shifted have inverse growth at the same time and with the same magnitude. In other words, when the original grows, the lag-shifted decreases."
   ]
  },
  {
   "cell_type": "markdown",
   "metadata": {},
   "source": [
    "### Task 4.4.2: Correlation Times in the DES\n",
    "*What conclusions can you draw from the correlation coefficients? Interpret all results of task 4.3.1. What can you say about whether packets have to wait or not? Explain!*"
   ]
  },
  {
   "cell_type": "markdown",
   "metadata": {
    "pycharm": {
     "name": "#%% md\n"
    }
   },
   "source": [
    "For lower utilization values (ρ = 0.01) , the IAT and WT are mostly uncorrelated (-0.056). This makes sense as under low utilization, there are very little chances that the packet will be queued. Still, the negative sign is significant as it shows that if the IAT is low, meaning to packets arrive within a short time, the second will probably have to wait. In the case of the IAT and ST, they are uncorrelated (-0.002) as they are independent random variable by definition of the model. In consequence, the IAT and the SysT (WT + ST) can only be less or equally correlated as the IAT and WT. In effect, the IAT and the SysT have a (-0.011) negligible correlation coefficient. It is different for the ST and the SysT, as the latter is a function of the service time. We observe a 0.988 correlation coefficient which depicts this strong dependence. Under low utilization values, the waiting time is very small and the system time mostly depends on the service time. Regarding the WT, from the output in 4.2.1 it can be observed that no lag value yields any relevant correlation value. This makes sense as under low utilization the queue is mostly empty.\n",
    "\n",
    "For utilization values $\\in \\{0.5, 0.8\\}$ we observe a more intense negative correlation between the IAT and WT as well as between the IAT and SysT for the same reasons as explained in the previous paragraph. As it should, the IAT and the ST remain uncorrelated. When it comes to the waiting time, it desires more attention for these utilization values. We observe that the lower lag values in the 1 to 20 range start to indicate some auto-correlation. This is due to the fact that if the WT was large, it means that the queue contained some packets.  The higher the utilization value, the higher number of packets will be queued and consecutive time indexes will observe a similar waiting time. For ρ = 0.5, the auto-correlation fades away from lag sizes of 1 to 10. While for ρ = 0.8 it does not fade away in the 1 to 20 lag size range.\n",
    "\n",
    "Last, for ρ = 0.9, the IAT and WT, IAT and ST, and IAT and SysT behave as in the previous paragraph. As the utilization is so high, the queue remains full for the whole simulation and therefore, the WT is highly auto-correlated for all lag values.\n"
   ]
  },
  {
   "cell_type": "markdown",
   "metadata": {},
   "source": [
    "### Task 4.4.3: Visualization of Covariance/Correlation\n",
    "*What information can you obtain from the scatter plots you draw in task 4.3.2? How does the information relate to the covariance/correlation values in task 4.3.1?*"
   ]
  },
  {
   "cell_type": "markdown",
   "metadata": {},
   "source": [
    "With the help of the scatter plots we can confirm the inferred results from 4.3.1:\n",
    "- The IAT and the ST present some negative correlation. Points with smaller IAT can achieve a high WT and vice-versa.\n",
    "- The Serving and the System time are positively correlated. It is very evident when considering the ρ = 0.01 case, as the waiting time is mostly null, and the system time is determined by the serving time. They clearly have a linear relation. With the higher utilization, as the waiting time gains more weight in the system time calculation, this relation faces away, although it is still observable."
   ]
  },
  {
   "cell_type": "markdown",
   "metadata": {},
   "source": [
    "### Task 4.4.4: Auto Correlation\n",
    "*After checking the result of task 4.3.3, what conclusions could you drawn when you compare N = 100 and N = 10000? What is the problem with N = 100?*"
   ]
  },
  {
   "cell_type": "markdown",
   "metadata": {
    "pycharm": {
     "name": "#%% md\n"
    }
   },
   "source": [
    "We can observe that the auto-correlation results depend on the number of processed packets. Because of this dependency, the observation windows of the experiment needs to be carefully chosen.  Otherwise, we could make false-assumptions. The problem with N=100 is that the warm-up phase of the experiment has too much contribution to the results. In order to reduce the weight of the warm-up phase we need to simulate longer."
   ]
  }
 ],
 "metadata": {
  "kernelspec": {
   "display_name": "Python 3 (ipykernel)",
   "language": "python",
   "name": "python3"
  },
  "language_info": {
   "codemirror_mode": {
    "name": "ipython",
    "version": 3
   },
   "file_extension": ".py",
   "mimetype": "text/x-python",
   "name": "python",
   "nbconvert_exporter": "python",
   "pygments_lexer": "ipython3",
   "version": "3.10.0"
  }
 },
 "nbformat": 4,
 "nbformat_minor": 1
}