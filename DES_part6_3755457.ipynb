{
 "cells": [
  {
   "cell_type": "code",
   "execution_count": 1,
   "metadata": {
    "pycharm": {
     "name": "#%%\n"
    }
   },
   "outputs": [],
   "source": [
    "# Student Name: David de Andres Hernandez\n",
    "# Matriculation Number: 3755457"
   ]
  },
  {
   "cell_type": "markdown",
   "metadata": {
    "pycharm": {
     "name": "#%% md\n"
    }
   },
   "source": [
    "# Discrete Event Simulator (DES) - Part 6"
   ]
  },
  {
   "cell_type": "markdown",
   "metadata": {
    "pycharm": {
     "name": "#%% md\n"
    }
   },
   "source": [
    "# Verification"
   ]
  },
  {
   "cell_type": "code",
   "execution_count": 3,
   "metadata": {
    "pycharm": {
     "name": "#%%\n"
    }
   },
   "outputs": [],
   "source": [
    "import part6_simstudy as p6"
   ]
  },
  {
   "cell_type": "markdown",
   "metadata": {
    "pycharm": {
     "name": "#%% md\n"
    }
   },
   "source": [
    "### Task 6.2.1: Chi Square Test\n",
    "Draw 100 random samples from a standard normal distribution. Choose a reasonable number of bins and run the chi square test on your samples. The null hypothesis should be: the samples follow the standard normal distribution"
   ]
  },
  {
   "cell_type": "code",
   "execution_count": 5,
   "metadata": {
    "pycharm": {
     "name": "#%%\n"
    }
   },
   "outputs": [
    {
     "name": "stdout",
     "output_type": "stream",
     "text": [
      "O_i = [6, 1, 2, 0, 2, 2, 2, 2, 5, 1, 3, 3, 3, 6, 2, 4, 1, 5, 7, 1, 6, 8, 0, 1, 4, 1, 4, 1, 2, 3, 0, 4, 1, 7]\n",
      "E_i = [5.479900504798616, 1.2007909569300028, 1.3949457964912995, 1.6043825351839347, 1.8269185636097862, 2.059639072467445, 2.2989192985074345, 2.5404871415302566, 2.779527323663711, 3.010825363967623, 3.2289465527000685, 3.428442097591322, 3.604071966368916, 3.7510319421371396, 3.86517127498498, 3.943187216207394, 3.9827837277028824, 3.982783727702921, 3.943187216207389, 3.86517127498498, 3.7510319421371396, 3.6040719663688825, 3.4284420975913443, 3.2289465527000405, 3.010825363967662, 2.779527323663711, 2.5404871415302233, 2.2989192985074625, 2.059639072467423, 1.8269185636097918, 1.6043825351839347, 1.394945796491287, 1.2007909569300201, 5.4798812516281235]\n",
      "chi_square table:41.42173582978522\n",
      "chi_square calculated:37.03955127524315\n",
      "The H0 has not been rejected\n"
     ]
    },
    {
     "data": {
      "text/plain": "True"
     },
     "execution_count": 5,
     "metadata": {},
     "output_type": "execute_result"
    }
   ],
   "source": [
    "p6.task_6_2_1()"
   ]
  },
  {
   "cell_type": "markdown",
   "metadata": {
    "pycharm": {
     "name": "#%% md\n"
    }
   },
   "source": [
    "#  Analysis and General Questions"
   ]
  },
  {
   "cell_type": "markdown",
   "metadata": {
    "pycharm": {
     "name": "#%% md\n"
    }
   },
   "source": [
    "### Task 6.3.1: Chi Square Test\n",
    "What can you observe, when you vary the number of bins or the significance level alpha in task 6.2.1? What happens, if you change the mean and/or the variance of the samples but still compare them to the standard normal distribution in the test? Describe your observations!"
   ]
  },
  {
   "cell_type": "markdown",
   "metadata": {
    "pycharm": {
     "name": "#%% md\n"
    }
   },
   "source": [
    "If the number of bins is too high for the number of samples, then there will ba a large number of bins not containing any sample. This in turn, makes the difference with the expected frequency very high. In summary, a too high number of bins can negatively affect the result of the test.\n",
    "Increasing the significance level alpha, increases the probability of rejecting the null hypothesis.\n",
    "If the mean and/or variance of the samples is changed but is still compared to the standard normal distribution, then the calculated chi square value is extremely high, as the differences between the expected frequencies and the observed grow."
   ]
  },
  {
   "cell_type": "markdown",
   "metadata": {
    "pycharm": {
     "name": "#%% md\n"
    }
   },
   "source": [
    "### Task 6.3.2: System Utilization Distribution\n",
    "Recall the Task 3.3.3 from the Assignment 3, where you determined that the histogram of the system utilization resembles the normal distribution. Now, having implemented the chi square test, check the null hypothesis that your samples of the system utilization follow normal distribution with mean and variance estimated from your samples. Do not forget to take into account that you estimate the parameters of the distribution when running chi square test! Run the simulation with ρ = 0.01, S = 5 and the simulation duration of 100s. Perform 100 simulation runs. Then, test your null hypothesis with the reasonable number of bins and α = 0.1. What can you conclude from your results?"
   ]
  },
  {
   "cell_type": "code",
   "execution_count": 6,
   "outputs": [
    {
     "data": {
      "text/plain": "<Figure size 432x288 with 1 Axes>",
      "image/png": "[encoded data removed]"
     },
     "metadata": {
      "needs_background": "light"
     },
     "output_type": "display_data"
    },
    {
     "name": "stdout",
     "output_type": "stream",
     "text": [
      "Name: sys_util, Mean: 0.010218764642335721, Variance: 2.2630407412791563e-06\n",
      "\n",
      "\n",
      "O_i = [9, 7, 2, 8, 4, 8, 11, 9, 6, 7, 5, 8, 6, 4, 4]\n",
      "E_i = [6.0817697816827465, 3.849041345319254, 5.0047788737097365, 6.193688701918942, 7.295349621751656, 8.17852855632108, 8.726430173874766, 8.861973950561836, 8.565579192799932, 7.879803720058565, 6.8993222014199995, 5.749495765821355, 4.560214941312191, 3.442492393163332, 5.265630151306533]\n",
      "chi_square table:18.54934778670325\n",
      "chi_square calculated:11.516998451193398\n",
      "The H0 has not been rejected\n"
     ]
    },
    {
     "data": {
      "text/plain": "True"
     },
     "execution_count": 6,
     "metadata": {},
     "output_type": "execute_result"
    }
   ],
   "source": [
    "p6.task_6_3_2()"
   ],
   "metadata": {
    "collapsed": false,
    "pycharm": {
     "name": "#%%\n"
    }
   }
  },
  {
   "cell_type": "markdown",
   "source": [
    "As we can see from the execution of the above cell, the null Hypothesis was not rejected. We cannot discard that the given data belongs to a Gaussian distribution with the above printed mean and variance."
   ],
   "metadata": {
    "collapsed": false,
    "pycharm": {
     "name": "#%% md\n"
    }
   }
  },
  {
   "cell_type": "markdown",
   "source": [],
   "metadata": {
    "collapsed": false,
    "pycharm": {
     "name": "#%% md\n"
    }
   }
  }
 ],
 "metadata": {
  "kernelspec": {
   "display_name": "Python 3 (ipykernel)",
   "language": "python",
   "name": "python3"
  },
  "language_info": {
   "codemirror_mode": {
    "name": "ipython",
    "version": 3
   },
   "file_extension": ".py",
   "mimetype": "text/x-python",
   "name": "python",
   "nbconvert_exporter": "python",
   "pygments_lexer": "ipython3",
   "version": "3.10.0"
  }
 },
 "nbformat": 4,
 "nbformat_minor": 1
}